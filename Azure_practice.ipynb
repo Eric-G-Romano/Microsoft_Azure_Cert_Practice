{
 "cells": [
  {
   "cell_type": "code",
   "execution_count": null,
   "id": "3dfae557",
   "metadata": {},
   "outputs": [],
   "source": [
    "# Imports needed \n",
    "from azureml.core import Model"
   ]
  },
  {
   "cell_type": "markdown",
   "id": "7cb962ed",
   "metadata": {},
   "source": [
    "## Connect with a Workspace"
   ]
  },
  {
   "cell_type": "code",
   "execution_count": null,
   "id": "8b93b6d9",
   "metadata": {},
   "outputs": [],
   "source": [
    "# First step: Always connect to the workspace for this project \n",
    "import azureml.core \n",
    "from azureml.core import Workspace\n",
    "\n",
    "# load the workspace from the saved config file\n",
    "ws = Workspace.from_config()\n",
    "print('Ready to use Azure ML {} to work with {}'.format(azureml.core.VERSION, ws.name))"
   ]
  },
  {
   "cell_type": "markdown",
   "id": "15fe6b3e",
   "metadata": {},
   "source": [
    "## Train and register a Model\n",
    "- In this case we will focus on training a model in another lesson\n",
    "- Will assume that thier is a model that is already trained and we just need to register it to the ws"
   ]
  },
  {
   "cell_type": "code",
   "execution_count": null,
   "id": "71012e55",
   "metadata": {},
   "outputs": [],
   "source": [
    "# Method 1: using the Model.register method \n",
    "import azureml.core from Model\n",
    "\n",
    "classification_modol = Model.register(workspace=ws,\n",
    "                                      model_name= 'classification_model',\n",
    "                                      model_path= 'model.pkl',\n",
    "                                      description= 'A classification model')\n",
    "# Method 2: Using the run.register_model method if the training model is include with the run \n",
    "\n",
    "run.register_model(model_path='outputs/model.pkl',\n",
    "                   model_name='classification_model',\n",
    "                   description='A classification model')\n",
    "\n",
    "## If there are metrics associated with the model than it need to also be included when you register\n",
    "## a model\n",
    "\n",
    "# Need to figure out how to register the metrics with the Model function\n",
    "classification_model_metrics = Model.register(workspace=ws,\n",
    "                                              model_name= 'classification_model',\n",
    "                                              model_path= 'model.pkl',\n",
    "                                              tag= {'Training context':'Training'},\n",
    "                                              properties= {'AUC':})\n",
    "\n",
    "run.register_model(model_path='outputs/model.pkl',\n",
    "                   model_name='classification_model',\n",
    "                   description='A classification model',\n",
    "                   tag= {'Training context':'Training'},\n",
    "                   properties= {'AUC': run.get_metrics()['AUC'], 'Accuracy': run.get_metrics()['Accuracy']})\n"
   ]
  },
  {
   "cell_type": "markdown",
   "id": "5064e40b",
   "metadata": {},
   "source": [
    "## You need to create a Compute Target and Environment for your Pipeline"
   ]
  },
  {
   "cell_type": "code",
   "execution_count": null,
   "id": "8b9e5efc",
   "metadata": {},
   "outputs": [],
   "source": [
    "from azureml.core.compute import ComputeTarget, AmlCompute\n",
    "from azureml.core.compute_target import ComputeTargetException\n",
    "\n",
    "cluster_name = 'your-compute-cluster'\n",
    "\n",
    "try:\n",
    "    # Check for existing compute target\n",
    "    inference_cluster = ComputeTarget(workspace=ws,\n",
    "                                      name=cluster_name)\n",
    "    print('Found existing cluster, use it')\n",
    "except ComputeTargetException:\n",
    "    # If it does not exist, create it\n",
    "    try:\n",
    "        compute_config = AmlCompute.provisioning_configuration(vm_size='STANDARD_',)\n",
    "        inference_cluster = ComputeTarget(ws, \n",
    "                                          cluster_name,\n",
    "                                          compute_config)\n",
    "        inference_cluster.wait_for_completion(show_output=True)\n",
    "    except Exception as ex:\n",
    "        print(ex)"
   ]
  },
  {
   "cell_type": "code",
   "execution_count": null,
   "id": "499c82b4",
   "metadata": {},
   "outputs": [],
   "source": [
    "# Create a experiment folder to place the envi.yml file and batch_script.py file in\n",
    "import os \n",
    "experiment_folder = 'batch_pipeline'\n",
    "os.makedirs(experiment_folder, exist_ok=True)\n",
    "print(experiment_folder)"
   ]
  },
  {
   "cell_type": "code",
   "execution_count": null,
   "id": "e367a402",
   "metadata": {},
   "outputs": [],
   "source": [
    "## Create the batch_environment.yml file and put it in the experiment folder\n",
    "%%writefile $experiment_folder/batch_environment.yml\n",
    "name: batch_environment\n",
    "dependencies:\n",
    "- python =3.6.2\n",
    "- scikit-learn\n",
    "- pip \n",
    "- pip:\n",
    "    -azureml-default"
   ]
  },
  {
   "cell_type": "code",
   "execution_count": null,
   "id": "78313971",
   "metadata": {},
   "outputs": [],
   "source": [
    "# Configure the batch_environment\n",
    "from azureml.core import Environment\n",
    "from azureml.core.runconfig import DEFAULT_CPU_IMAGE\n",
    "\n",
    "# Create an environment for the experiment\n",
    "batch_env = Environment.from_conda_specification('experiment_env', experiment_folder)\n",
    "batch_env.docker.base_image = DEFAULT_CPU_IMAGE\n",
    "\n",
    "print('Config Ready')"
   ]
  },
  {
   "cell_type": "markdown",
   "id": "3e094aca",
   "metadata": {},
   "source": [
    "## You need create the Batch script/ A scoring script\n",
    "- init(): loads the model to inisiate it\n",
    "- data(mini_batch) : inplament the new data contained in mini_batch"
   ]
  },
  {
   "cell_type": "code",
   "execution_count": null,
   "id": "47c4314e",
   "metadata": {},
   "outputs": [],
   "source": [
    "%%writefile $experiment_folder/batch_script.py\n",
    "\n",
    "import os \n",
    "import numpy as np \n",
    "from azureml.core import Model \n",
    "import joblib\n",
    "\n",
    "def init():\n",
    "    # Runs the model \n",
    "    global model\n",
    "    \n",
    "    # Loads the model \n",
    "    model_path = Model.get_model_path('diabetes_model')\n",
    "    model = joblib.load(model_path)\n",
    "    \n",
    "def run(mini_batch):\n",
    "    \n",
    "    # This runs for each batch\n",
    "    resultlist = []\n",
    "    \n",
    "    # process each file in the batch\n",
    "    for f in mini_batch:\n",
    "        # Read the comma-delimited data into an-array \n",
    "        data = np.genfromtext(f, delimiter= ',')\n",
    "        # Reshape into a 2-d array for prediction(model experts multiple)\n",
    "        prediction = model.predict(data.reshape(1,-1))\n",
    "        # Apprend results to results list \n",
    "        resultlist.append('{}:{}'.format(os.path.basename(f), prediction[0]))\n",
    "    return resultlist"
   ]
  },
  {
   "cell_type": "markdown",
   "id": "71c88ed5",
   "metadata": {},
   "source": [
    "## Configure and RunStep to create the pipeline"
   ]
  },
  {
   "cell_type": "code",
   "execution_count": null,
   "id": "f19d906a",
   "metadata": {},
   "outputs": [],
   "source": [
    "# Configure and RunStep to create the pipeline\n",
    "from azureml.pipeline.steps import ParallelRunConfig, ParallelRunStep\n",
    "from azureml.pipeline.core import Pipeline\n",
    "from azureml.data import OutputFileDatasetConfig\n",
    "from azureml.core.runconfig import DockerConfiguration\n",
    "\n",
    "output_dir = OutputFileDatasetConfig(name='inferences')\n",
    "\n",
    "parallel_run_config = ParallelRunConfig(source_directory=experiment_folder,\n",
    "                                        entry_script='batch_script.py',\n",
    "                                        mini_batch_size='5',\n",
    "                                        error_threshold=10,\n",
    "                                        output_action='append_row',\n",
    "                                        environment=batch_env,\n",
    "                                        compute_target=inference_cluster,\n",
    "                                        node_count=2\n",
    "                                        )\n",
    "parallel_run_step = ParallelRunStep(name='batch_score_diabetes',\n",
    "                                    parallel_run_config=parallel_run_config,\n",
    "                                    inputs=[batch_data_set.as_name_input('batch_data')],\n",
    "                                    output=output_dir,\n",
    "                                    arguments=[],\n",
    "                                    allow_reuse=True)\n",
    "## To create the pipeline\n",
    "pipeline = Pipeline(workspace=ws, steps=[parallel_run_step])"
   ]
  },
  {
   "cell_type": "markdown",
   "id": "514bc164",
   "metadata": {},
   "source": [
    "## Submit the pipeline"
   ]
  },
  {
   "cell_type": "code",
   "execution_count": null,
   "id": "72f8a58d",
   "metadata": {},
   "outputs": [],
   "source": [
    "# Submit the experiment\n",
    "from azureml.core import Experiment\n",
    "\n",
    "pipelinerun = Experiment(ws, 'batch_perdiction_pipeline').submit(pipeline)\n",
    "pipelinerun.wait_for_completion(show_output=True)"
   ]
  }
 ],
 "metadata": {
  "kernelspec": {
   "display_name": "Python 3 (ipykernel)",
   "language": "python",
   "name": "python3"
  },
  "language_info": {
   "codemirror_mode": {
    "name": "ipython",
    "version": 3
   },
   "file_extension": ".py",
   "mimetype": "text/x-python",
   "name": "python",
   "nbconvert_exporter": "python",
   "pygments_lexer": "ipython3",
   "version": "3.8.11"
  }
 },
 "nbformat": 4,
 "nbformat_minor": 5
}
